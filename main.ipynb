{
 "cells": [
  {
   "cell_type": "markdown",
   "metadata": {},
   "source": [
    "## Data Scraping, Standardization and Automation System for California Construction Projects"
   ]
  },
  {
   "cell_type": "markdown",
   "metadata": {},
   "source": [
    "### Tools Used- \n",
    "1. Beautiful Soup (Web Scraping)\n",
    "2. Open AI API (Standardization)\n",
    "3. Openpyxl (Output Generation)"
   ]
  },
  {
   "cell_type": "markdown",
   "metadata": {},
   "source": [
    "### Importing Neccessary Packages"
   ]
  },
  {
   "cell_type": "code",
   "execution_count": 1,
   "metadata": {},
   "outputs": [],
   "source": [
    "import requests\n",
    "from bs4 import BeautifulSoup\n",
    "from langchain.llms import OpenAI\n",
    "from langchain_openai import OpenAI\n",
    "from langchain.prompts import PromptTemplate\n",
    "from langchain.chains import LLMChain\n",
    "import pandas as pd"
   ]
  },
  {
   "cell_type": "markdown",
   "metadata": {},
   "source": [
    "### Web Scraping using Beautiful Soup"
   ]
  },
  {
   "cell_type": "code",
   "execution_count": 2,
   "metadata": {},
   "outputs": [],
   "source": [
    "#Accepting the source url and writing the html data in a file\n",
    "def fetchAndSaveToFile(url,path):\n",
    "    r = requests.get(url)\n",
    "    with open(path,\"w\") as f:\n",
    "        f.write(r.text)\n",
    "\n",
    "\n",
    "url = \"https://projects.constructconnect.com/market-report/California-construction-projects?campaign=21222206374&group=158690373822&target=kwd-2297821187971&matchtype=e&creative=697443596315&device=c&se_kw=construction%20projects%20in%20california&utm_medium=ppc&utm_campaign=States&utm_term=construction%20projects%20in%20california&utm_source=adwords&hsa_ad=697443596315&hsa_kw=construction%20projects%20in%20california&hsa_net=adwords&hsa_tgt=kwd-2297821187971&hsa_grp=158690373822&hsa_src=g&hsa_ver=3&hsa_cam=21222206374&hsa_mt=e&hsa_acc=3324869874&gad_source=1&gclid=CjwKCAjwuJ2xBhA3EiwAMVjkVErjhjkbF6VTdQltFXD-nzJR5oWj2gXjO8SS5yo1v_AUK9KiGZtREhoC7VwQAvD_BwE\""
   ]
  },
  {
   "cell_type": "code",
   "execution_count": 3,
   "metadata": {},
   "outputs": [],
   "source": [
    "fetchAndSaveToFile(url,\"data/art2.html\")"
   ]
  },
  {
   "cell_type": "code",
   "execution_count": 4,
   "metadata": {},
   "outputs": [],
   "source": [
    "with open(\"data/art1.html\",\"r\") as f:\n",
    "    html_doc = f.read()"
   ]
  },
  {
   "cell_type": "code",
   "execution_count": 5,
   "metadata": {},
   "outputs": [
    {
     "name": "stdout",
     "output_type": "stream",
     "text": [
      "['Alabama', 'Alaska', 'Arizona', 'Arkansas', 'California', 'Colorado', 'Connecticut', 'Delaware', 'Florida', 'Georgia', 'Hawaii', 'Idaho', 'Illinois', 'Indiana', 'Iowa', 'Kansas', 'Kentucky', 'Louisiana', 'Maine', 'Maryland', 'Massachusetts', 'Michigan', 'Minnesota', 'Mississippi', 'Missouri', 'Montana', 'Nebraska', 'Nevada', 'New Hampshire', 'New Jersey', 'New Mexico', 'New York', 'North Carolina', 'North Dakota', 'Ohio', 'Oklahoma', 'Oregon', 'Pennsylvania', 'Rhode Island', 'South Carolina', 'South Dakota', 'Tennessee', 'Texas', 'Utah', 'Vermont', 'Virginia', 'Washington', 'West Virginia', 'Wisconsin', 'Wyoming']\n"
     ]
    }
   ],
   "source": [
    "#Beautiful Soup block to extract addresses\n",
    "soup = BeautifulSoup(html_doc, 'html.parser')\n",
    "locations = soup.findAll(\"a\",class_=\"cc_child_menu_item\")\n",
    "p_texts = [p_tag.p.get_text(strip=True) for p_tag in locations]\n",
    "print(p_texts)"
   ]
  },
  {
   "cell_type": "markdown",
   "metadata": {},
   "source": [
    "### Data Standardization using OpenAI API"
   ]
  },
  {
   "cell_type": "code",
   "execution_count": 6,
   "metadata": {},
   "outputs": [],
   "source": [
    "#Initializing the LLM\n",
    "llm = OpenAI(api_key='provide_key', temperature=0.7)\n"
   ]
  },
  {
   "cell_type": "code",
   "execution_count": 7,
   "metadata": {},
   "outputs": [
    {
     "name": "stdout",
     "output_type": "stream",
     "text": [
      "['Provide me with a unique ID, the country name, country code, region name, region code, and geo location for Alabama.', 'Provide me with a unique ID, the country name, country code, region name, region code, and geo location for Alaska.', 'Provide me with a unique ID, the country name, country code, region name, region code, and geo location for Arizona.', 'Provide me with a unique ID, the country name, country code, region name, region code, and geo location for Arkansas.', 'Provide me with a unique ID, the country name, country code, region name, region code, and geo location for California.', 'Provide me with a unique ID, the country name, country code, region name, region code, and geo location for Colorado.', 'Provide me with a unique ID, the country name, country code, region name, region code, and geo location for Connecticut.', 'Provide me with a unique ID, the country name, country code, region name, region code, and geo location for Delaware.', 'Provide me with a unique ID, the country name, country code, region name, region code, and geo location for Florida.', 'Provide me with a unique ID, the country name, country code, region name, region code, and geo location for Georgia.', 'Provide me with a unique ID, the country name, country code, region name, region code, and geo location for Hawaii.', 'Provide me with a unique ID, the country name, country code, region name, region code, and geo location for Idaho.', 'Provide me with a unique ID, the country name, country code, region name, region code, and geo location for Illinois.', 'Provide me with a unique ID, the country name, country code, region name, region code, and geo location for Indiana.', 'Provide me with a unique ID, the country name, country code, region name, region code, and geo location for Iowa.', 'Provide me with a unique ID, the country name, country code, region name, region code, and geo location for Kansas.', 'Provide me with a unique ID, the country name, country code, region name, region code, and geo location for Kentucky.', 'Provide me with a unique ID, the country name, country code, region name, region code, and geo location for Louisiana.', 'Provide me with a unique ID, the country name, country code, region name, region code, and geo location for Maine.', 'Provide me with a unique ID, the country name, country code, region name, region code, and geo location for Maryland.', 'Provide me with a unique ID, the country name, country code, region name, region code, and geo location for Massachusetts.', 'Provide me with a unique ID, the country name, country code, region name, region code, and geo location for Michigan.', 'Provide me with a unique ID, the country name, country code, region name, region code, and geo location for Minnesota.', 'Provide me with a unique ID, the country name, country code, region name, region code, and geo location for Mississippi.', 'Provide me with a unique ID, the country name, country code, region name, region code, and geo location for Missouri.', 'Provide me with a unique ID, the country name, country code, region name, region code, and geo location for Montana.', 'Provide me with a unique ID, the country name, country code, region name, region code, and geo location for Nebraska.', 'Provide me with a unique ID, the country name, country code, region name, region code, and geo location for Nevada.', 'Provide me with a unique ID, the country name, country code, region name, region code, and geo location for New Hampshire.', 'Provide me with a unique ID, the country name, country code, region name, region code, and geo location for New Jersey.', 'Provide me with a unique ID, the country name, country code, region name, region code, and geo location for New Mexico.', 'Provide me with a unique ID, the country name, country code, region name, region code, and geo location for New York.', 'Provide me with a unique ID, the country name, country code, region name, region code, and geo location for North Carolina.', 'Provide me with a unique ID, the country name, country code, region name, region code, and geo location for North Dakota.', 'Provide me with a unique ID, the country name, country code, region name, region code, and geo location for Ohio.', 'Provide me with a unique ID, the country name, country code, region name, region code, and geo location for Oklahoma.', 'Provide me with a unique ID, the country name, country code, region name, region code, and geo location for Oregon.', 'Provide me with a unique ID, the country name, country code, region name, region code, and geo location for Pennsylvania.', 'Provide me with a unique ID, the country name, country code, region name, region code, and geo location for Rhode Island.', 'Provide me with a unique ID, the country name, country code, region name, region code, and geo location for South Carolina.', 'Provide me with a unique ID, the country name, country code, region name, region code, and geo location for South Dakota.', 'Provide me with a unique ID, the country name, country code, region name, region code, and geo location for Tennessee.', 'Provide me with a unique ID, the country name, country code, region name, region code, and geo location for Texas.', 'Provide me with a unique ID, the country name, country code, region name, region code, and geo location for Utah.', 'Provide me with a unique ID, the country name, country code, region name, region code, and geo location for Vermont.', 'Provide me with a unique ID, the country name, country code, region name, region code, and geo location for Virginia.', 'Provide me with a unique ID, the country name, country code, region name, region code, and geo location for Washington.', 'Provide me with a unique ID, the country name, country code, region name, region code, and geo location for West Virginia.', 'Provide me with a unique ID, the country name, country code, region name, region code, and geo location for Wisconsin.', 'Provide me with a unique ID, the country name, country code, region name, region code, and geo location for Wyoming.']\n"
     ]
    }
   ],
   "source": [
    "#Creating a langchain prompt template to be fed to the LLM\n",
    "outputs = []\n",
    "\n",
    "prompt_template_name = PromptTemplate(\n",
    "    input_variables = ['location'],\n",
    "    template = \"Provide me with a unique ID, the country name, country code, region name, region code, and geo location for {location}.\"\n",
    ")\n",
    "\n",
    "for location in p_texts:\n",
    "    output = prompt_template_name.format(location=location)\n",
    "    outputs.append(output)\n",
    "\n",
    "print(outputs)"
   ]
  },
  {
   "cell_type": "code",
   "execution_count": 8,
   "metadata": {},
   "outputs": [
    {
     "name": "stderr",
     "output_type": "stream",
     "text": [
      "/Library/Frameworks/Python.framework/Versions/3.9/lib/python3.9/site-packages/langchain_core/_api/deprecation.py:119: LangChainDeprecationWarning: The method `BaseLLM.__call__` was deprecated in langchain-core 0.1.7 and will be removed in 0.2.0. Use invoke instead.\n",
      "  warn_deprecated(\n"
     ]
    },
    {
     "name": "stdout",
     "output_type": "stream",
     "text": [
      "['\\n\\nID: AL001\\nCountry Name: United States\\nCountry Code: US\\nRegion Name: Alabama\\nRegion Code: AL\\nGeo Location: 32.3182° N, 86.9023° W', '\\n\\nUnique ID: 1\\nCountry name: United States\\nCountry code: US\\nRegion name: Alaska\\nRegion code: AK\\nGeo location: 64.2008° N, 149.4937° W', '\\n\\nID: AZ001\\nCountry name: United States\\nCountry code: US\\nRegion name: Arizona\\nRegion code: AZ\\nGeo location: 34.0489° N, 111.0937° W', '\\n\\nID: US-AR\\nCountry Name: United States\\nCountry Code: US\\nRegion Name: Arkansas\\nRegion Code: AR\\nGeo Location: 34.7465° N, 92.2896° W', '\\n\\nID: 12345\\nCountry Name: United States\\nCountry Code: US\\nRegion Name: California\\nRegion Code: CA\\nGeo Location: 36.7783° N, 119.4179° W', '\\n\\nUnique ID:  1\\n\\nCountry name: United States\\n\\nCountry code: US\\n\\nRegion name: Colorado\\n\\nRegion code: CO\\n\\nGeo location: 39.5501° N, 105.7821° W', '\\n\\nUnique ID: 09c49549-1e1c-4078-a9d7-6c3629a17d3f\\nCountry Name: United States\\nCountry Code: US\\nRegion Name: Connecticut\\nRegion Code: CT\\nGeo Location: 41.6032° N, 73.0877° W', '\\n\\nID: 10\\nCountry Name: United States\\nCountry Code: US\\nRegion Name: Delaware\\nRegion Code: DE\\nGeo Location: 39.158168, -75.524368', '\\n\\nUnique ID: US-FL\\n\\nCountry name: United States\\n\\nCountry code: US\\n\\nRegion name: Florida\\n\\nRegion code: FL\\n\\nGeo location: 27.6648° N, 81.5158° W', '\\n\\nUnique ID: 50\\nCountry Name: Georgia\\nCountry Code: GE\\nRegion Name: Tbilisi\\nRegion Code: TB\\nGeo Location: 41.715137, 44.827095', '\\n\\nUnique ID: 47\\nCountry Name: United States\\nCountry Code: US\\nRegion Name: Hawaii\\nRegion Code: HI\\nGeo Location: 19.8968° N, 155.5828° W', '\\n\\nUnique ID: 16\\nCountry name: United States\\nCountry code: US\\nRegion name: Idaho\\nRegion code: ID\\nGeo location: 45.494576, -114.142430', '\\n\\nUnique ID: US-IL\\n\\nCountry Name: United States\\n\\nCountry Code: US\\n\\nRegion Name: Illinois\\n\\nRegion Code: IL\\n\\nGeo Location: 40.6331° N, 89.3985° W', '\\n\\nUnique ID: 18\\nCountry Name: United States\\nCountry Code: US\\nRegion Name: Indiana\\nRegion Code: IN\\nGeo Location: 40.2672° N, 86.1349° W', '\\n\\nID: 111\\nCountry Name: United States\\nCountry Code: US\\nRegion Name: Iowa\\nRegion Code: IA\\nGeo Location: 41.878002, -93.097702', '\\n\\nUnique ID: 21\\nCountry Name: United States\\nCountry Code: US\\nRegion Name: Kansas\\nRegion Code: KS\\nGeo Location: 39.0119° N, 98.4842° W', '\\n\\nID: 12345\\nCountry Name: United States\\nCountry Code: US\\nRegion Name: Kentucky\\nRegion Code: KY\\nGeo Location: 37.8393332,-84.2700179', '\\n\\nUnique ID: 22\\nCountry Name: United States\\nCountry Code: US\\nRegion Name: Louisiana\\nRegion Code: LA\\nGeo Location: 30.9843° N, 91.9623° W', '\\n\\nUnique ID: 231445\\n\\nCountry Name: United States\\n\\nCountry Code: US\\n\\nRegion Name: Maine\\n\\nRegion Code: ME\\n\\nGeo Location: 45.253783, -69.445469', '\\n\\nID: US-MD\\nCountry Name: United States\\nCountry Code: US\\nRegion Name: Maryland\\nRegion Code: MD\\nGeo Location: 39.045753, -76.641273', '\\n\\nUnique ID: US-MA\\nCountry Name: United States\\nCountry Code: US\\nRegion Name: Massachusetts\\nRegion Code: MA\\nGeo Location: 42.4072° N, 71.3824° W', '\\n\\nUnique ID: US-MI\\nCountry name: United States\\nCountry code: US\\nRegion name: Michigan\\nRegion code: MI\\nGeo location: 44.3148° N, 85.6024° W', '\\n\\nUnique ID: MN-US\\n\\nCountry Name: United States\\n\\nCountry Code: US\\n\\nRegion Name: Minnesota\\n\\nRegion Code: MN\\n\\nGeo Location: 44.9778° N, 93.2650° W', '\\n\\nID: 1581\\nCountry Name: United States\\nCountry Code: US\\nRegion Name: Mississippi\\nRegion Code: MS\\nGeo Location: 32.354668, -89.398528', '\\n\\nUnique ID: 39\\nCountry Name: United States\\nCountry Code: US\\nRegion Name: Missouri\\nRegion Code: MO\\nGeo Location: 37.9643° N, 91.8318° W', '\\n\\nUnique ID: 30\\nCountry Name: United States\\nCountry Code: US\\nRegion Name: Montana\\nRegion Code: MT\\nGeo Location: 46.879682, -110.362566', '\\n\\nUnique ID: 28\\nCountry Name: United States\\nCountry Code: US\\nRegion Name: Nebraska\\nRegion Code: NE\\nGeo Location: 41.4925° N, 99.9018° W', '\\n\\nUnique ID: US-NV\\nCountry Name: United States\\nCountry Code: US\\nRegion Name: Nevada\\nRegion Code: NV\\nGeo Location: 38.8026° N, 116.4194° W', '\\n\\nUnique ID: 33\\nCountry Name: United States\\nCountry Code: US\\nRegion Name: New Hampshire\\nRegion Code: NH\\nGeo Location: 43.1939° N, 71.5724° W', '\\n\\nID: 1\\nCountry Name: United States\\nCountry Code: US\\nRegion Name: New Jersey\\nRegion Code: NJ\\nGeo Location: 40.0583° N, 74.4057° W', '\\n\\nUnique ID: US-NM\\nCountry Name: United States\\nCountry Code: US\\nRegion Name: New Mexico\\nRegion Code: NM\\nGeo Location: 34.51994, -105.87009', '\\nID: 1001\\nCountry Name: United States\\nCountry Code: US\\nRegion Name: New York\\nRegion Code: NY\\nGeo Location: 40.7128° N, 74.0060° W', '\\n\\nUnique ID: US-NC\\nCountry Name: United States\\nCountry Code: US\\nRegion Name: North Carolina\\nRegion Code: NC\\nGeo Location: 35.7596° N, 79.0193° W', '\\n\\nUnique ID: US-ND\\nCountry Name: United States\\nCountry Code: US\\nRegion Name: North Dakota\\nRegion Code: ND\\nGeo Location: 47.5514926,-101.0020119', '\\n\\nID: 517\\nCountry Name: United States\\nCountry Code: US\\nRegion Name: Ohio\\nRegion Code: OH \\nGeo Location: 40.4173° N, 82.9071° W', '\\n\\nID: OKLA001\\nCountry Name: United States\\nCountry Code: US\\nRegion Name: Oklahoma\\nRegion Code: OK\\nGeo Location: 35.0078° N, 97.0929° W', '\\nID: OR001\\nCountry Name: United States\\nCountry Code: US\\nRegion Name: Oregon\\nRegion Code: OR\\nGeo Location: 44.00 N, 120.50 W', '\\n\\nUnique ID: US-PA\\n\\nCountry Name: United States\\n\\nCountry Code: US\\n\\nRegion Name: Pennsylvania\\n\\nRegion Code: PA\\n\\nGeo Location: 40.9946° N, 77.6047° W', '\\n\\nUnique ID: US-RI\\nCountry Name: United States\\nCountry Code: US\\nRegion Name: Rhode Island\\nRegion Code: RI\\nGeo Location: 41.580095, -71.477429', '\\n\\nID: SC001\\nCountry Name: United States\\nCountry Code: US\\nRegion Name: South Carolina\\nRegion Code: SC\\nGeo Location: 34.0000° N, 81.0000° W', '\\n\\nID: US-SD\\nCountry Name: United States\\nCountry Code: US\\nRegion Name: South Dakota\\nRegion Code: SD\\nGeo Location: 44.3° N, 100.2° W', '\\n\\nUnique ID: TENN001\\nCountry Name: United States\\nCountry Code: US\\nRegion Name: Tennessee\\nRegion Code: TN\\nGeo Location: 35.5175° N, 86.5804° W', '\\n\\nID: US-TX\\nCountry Name: United States\\nCountry Code: US\\nRegion Name: Texas\\nRegion Code: TX\\nGeo Location: 31.9686° N, 99.9018° W', '\\n\\nID: 840UT\\nCountry Name: United States\\nCountry Code: US\\nRegion Name: Utah\\nRegion Code: UT\\nGeo Location: 39.32098° N, 111.093731° W', '\\nUnique ID: US-VT\\nCountry Name: United States\\nCountry Code: US\\nRegion Name: Vermont\\nRegion Code: VT\\nGeo Location: 44.5588° N, 72.5778° W', '\\n\\nUnique ID: US-VA\\nCountry Name: United States\\nCountry Code: US\\nRegion Name: Virginia\\nRegion Code: VA\\nGeo Location: 37.4316° N, 78.6569° W', '\\n\\nUnique ID: US-WA\\nCountry Name: United States\\nCountry Code: US\\nRegion Name: Washington\\nRegion Code: WA\\nGeo Location: 47.7511° N, 120.7401° W', '\\n\\nID: 54\\nCountry Name: United States\\nCountry Code: US\\nRegion Name: West Virginia\\nRegion Code: WV\\nGeo Location: 38.5976262,-80.4549026', '\\n\\nID: 55\\nCountry Name: United States\\nCountry Code: US\\nRegion Name: Wisconsin\\nRegion Code: WI\\nGeo Location: 44.500000, -89.500000', '\\n\\nID: WY001\\nCountry Name: United States\\nCountry Code: US\\nRegion Name: Wyoming\\nRegion Code: WY\\nGeo Location: 43.075970, -107.290283 ']\n"
     ]
    }
   ],
   "source": [
    "#Obtaining the desired result from the LLM\n",
    "output_text = []\n",
    "\n",
    "for city in outputs:\n",
    "    output_text.append(llm(city))\n",
    "    \n",
    "print(output_text)"
   ]
  },
  {
   "cell_type": "markdown",
   "metadata": {},
   "source": [
    "### Preparing the output"
   ]
  },
  {
   "cell_type": "code",
   "execution_count": null,
   "metadata": {},
   "outputs": [
    {
     "name": "stdout",
     "output_type": "stream",
     "text": [
      "Output saved to output_it3.xlsx\n"
     ]
    }
   ],
   "source": [
    "# Initialize lists to store data\n",
    "ids = []\n",
    "country_names = []\n",
    "country_codes = []\n",
    "region_names = []\n",
    "region_codes = []\n",
    "geo_locations = []\n",
    "\n",
    "# Extract data from each record\n",
    "for record in output_text:\n",
    "    lines = record.split('\\n')\n",
    "    id_ = country_name = country_code = region_name = region_code = geo_location = None\n",
    "    for line in lines:\n",
    "        if 'Unique ID:' in line:\n",
    "            id_ = line.split(': ')[1]\n",
    "        elif 'Country Name:' in line:\n",
    "            country_name = line.split(': ')[1]\n",
    "        elif 'Country Code:' in line:\n",
    "            country_code = line.split(': ')[1]\n",
    "        elif 'Region Name:' in line:\n",
    "            region_name = line.split(': ')[1]\n",
    "        elif 'Region Code:' in line:\n",
    "            region_code = line.split(': ')[1]\n",
    "        elif 'Geo Location:' in line:\n",
    "            geo_location = line.split(': ')[1]\n",
    "    ids.append(id_)\n",
    "    country_names.append(country_name)\n",
    "    country_codes.append(country_code)\n",
    "    region_names.append(region_name)\n",
    "    region_codes.append(region_code)\n",
    "    geo_locations.append(geo_location)\n",
    "\n",
    "# Create a DataFrame using the extracted data\n",
    "df = pd.DataFrame({\n",
    "    'ID': ids,\n",
    "    'Country Name': country_names,\n",
    "    'Country Code': country_codes,\n",
    "    'Region Name': region_names,\n",
    "    'Region Code': region_codes,\n",
    "    'Geo Location': geo_locations\n",
    "})\n",
    "\n",
    "# Define the file path for the Excel file\n",
    "file_path = 'output_it3.xlsx'\n",
    "\n",
    "# Save the DataFrame to Excel\n",
    "df.to_excel(file_path, index=False)\n",
    "\n",
    "print(f\"Output saved to {file_path}\")"
   ]
  }
 ],
 "metadata": {
  "kernelspec": {
   "display_name": "Python 3",
   "language": "python",
   "name": "python3"
  },
  "language_info": {
   "codemirror_mode": {
    "name": "ipython",
    "version": 3
   },
   "file_extension": ".py",
   "mimetype": "text/x-python",
   "name": "python",
   "nbconvert_exporter": "python",
   "pygments_lexer": "ipython3",
   "version": "3.9.7"
  }
 },
 "nbformat": 4,
 "nbformat_minor": 2
}
